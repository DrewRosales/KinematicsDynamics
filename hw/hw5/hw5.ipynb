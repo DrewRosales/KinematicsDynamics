{
 "cells": [
  {
   "cell_type": "code",
   "execution_count": 12,
   "metadata": {},
   "outputs": [],
   "source": [
    "import numpy as np"
   ]
  },
  {
   "cell_type": "markdown",
   "metadata": {},
   "source": [
    "## Problem 1"
   ]
  },
  {
   "cell_type": "code",
   "execution_count": 13,
   "metadata": {},
   "outputs": [],
   "source": [
    "import numpy as np\n",
    "\n",
    "def euler_to_rotation_matrix(alpha, beta, gamma, order='XYZ'):\n",
    "\n",
    "    R_x = np.array([[1, 0, 0],\n",
    "                    [0, np.cos(alpha), -np.sin(alpha)],\n",
    "                    [0, np.sin(alpha), np.cos(alpha)]])\n",
    "\n",
    "    R_y = np.array([[np.cos(beta), 0, np.sin(beta)],\n",
    "                    [0, 1, 0],\n",
    "                    [-np.sin(beta), 0, np.cos(beta)]])\n",
    "\n",
    "    R_z = np.array([[np.cos(gamma), -np.sin(gamma), 0],\n",
    "                    [np.sin(gamma), np.cos(gamma), 0],\n",
    "                    [0, 0, 1]])\n",
    "\n",
    "    if order == 'XYZ':\n",
    "        R = R_x @ R_y @ R_z\n",
    "    elif order == 'ZYX':\n",
    "        R = R_z @ R_y @ R_x\n",
    "    elif order == 'XZY':\n",
    "        R = R_y @ R_z @ R_y\n",
    "    elif order == 'YXZ':\n",
    "        R = R_y @ R_x @ R_z\n",
    "    elif order == 'YZX':\n",
    "        R = R_y @ R_z @ R_x\n",
    "    elif order == 'ZXY':\n",
    "        R = R_z @ R_x @ R_y\n",
    "\n",
    "    return R"
   ]
  },
  {
   "cell_type": "markdown",
   "metadata": {},
   "source": [
    "## Problem 2"
   ]
  },
  {
   "cell_type": "code",
   "execution_count": 14,
   "metadata": {},
   "outputs": [],
   "source": [
    "def rotation_matrix_to_euler_zyx(R):\n",
    "\n",
    "    alpha = np.arctan2(R[2, 1], R[2, 2])\n",
    "    beta = np.arcsin(-R[2, 0])\n",
    "    gamma = np.arctan2(R[1, 0], R[0, 0])\n",
    "\n",
    "    return alpha, beta, gamma\n",
    "\n",
    "def rotation_matrix_to_euler_xzx(R):\n",
    "\n",
    "    alpha = np.arctan2(R[0, 2], -R[0, 1])\n",
    "    beta = np.arccos(R[0, 0])\n",
    "    gamma = np.arctan2(R[2, 0], R[1, 0])\n",
    "\n",
    "    return alpha, beta, gamma"
   ]
  },
  {
   "cell_type": "markdown",
   "metadata": {},
   "source": [
    "## Problem 3"
   ]
  },
  {
   "cell_type": "code",
   "execution_count": 15,
   "metadata": {},
   "outputs": [],
   "source": [
    "gamma= np.radians(30)\n",
    "beta= np.radians(60)\n",
    "alpha= np.radians(45)\n",
    "\n",
    "R_zyx = euler_to_rotation_matrix(alpha, beta, gamma, \"ZYX\")"
   ]
  },
  {
   "cell_type": "code",
   "execution_count": 16,
   "metadata": {},
   "outputs": [],
   "source": [
    "alpha_XZX, beta_XZX, gamma_XZX = rotation_matrix_to_euler_xzx(R_zyx)"
   ]
  },
  {
   "cell_type": "code",
   "execution_count": 17,
   "metadata": {},
   "outputs": [
    {
     "data": {
      "text/plain": [
       "101.30993247402021"
      ]
     },
     "execution_count": 17,
     "metadata": {},
     "output_type": "execute_result"
    }
   ],
   "source": [
    "np.degrees(alpha_XZX)"
   ]
  },
  {
   "cell_type": "code",
   "execution_count": 18,
   "metadata": {},
   "outputs": [
    {
     "data": {
      "text/plain": [
       "64.34109372674472"
      ]
     },
     "execution_count": 18,
     "metadata": {},
     "output_type": "execute_result"
    }
   ],
   "source": [
    "np.degrees(beta_XZX)"
   ]
  },
  {
   "cell_type": "code",
   "execution_count": 19,
   "metadata": {},
   "outputs": [
    {
     "data": {
      "text/plain": [
       "-73.89788624801399"
      ]
     },
     "execution_count": 19,
     "metadata": {},
     "output_type": "execute_result"
    }
   ],
   "source": [
    "np.degrees(gamma_XZX)"
   ]
  }
 ],
 "metadata": {
  "kernelspec": {
   "display_name": "Python 3",
   "language": "python",
   "name": "python3"
  },
  "language_info": {
   "codemirror_mode": {
    "name": "ipython",
    "version": 3
   },
   "file_extension": ".py",
   "mimetype": "text/x-python",
   "name": "python",
   "nbconvert_exporter": "python",
   "pygments_lexer": "ipython3",
   "version": "3.12.3"
  }
 },
 "nbformat": 4,
 "nbformat_minor": 2
}
