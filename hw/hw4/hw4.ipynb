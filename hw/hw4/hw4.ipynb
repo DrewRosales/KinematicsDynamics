{
 "cells": [
  {
   "cell_type": "code",
   "execution_count": 1,
   "metadata": {},
   "outputs": [],
   "source": [
    "import numpy as np"
   ]
  },
  {
   "cell_type": "markdown",
   "metadata": {},
   "source": [
    "## Problem 5"
   ]
  },
  {
   "cell_type": "code",
   "execution_count": 10,
   "metadata": {},
   "outputs": [],
   "source": [
    "def create_R_x(roll):\n",
    "    roll = np.deg2rad(roll)\n",
    "    R = np.array([\n",
    "        [1, 0, 0],\n",
    "        [0, np.cos(roll), -np.sin(roll)],\n",
    "        [0, np.sin(roll), np.cos(roll)]\n",
    "    ])\n",
    "    return R\n",
    "\n",
    "def create_R_y(pitch):\n",
    "    pitch = np.deg2rad(pitch)\n",
    "    R = np.array([\n",
    "        [np.cos(pitch), 0, np.sin(pitch)],\n",
    "        [0, 1, 0],\n",
    "        [-np.sin(pitch), 0, np.cos(pitch)]\n",
    "    ])\n",
    "    return R\n",
    "\n",
    "def create_R_z(yaw):\n",
    "    yaw = np.deg2rad(yaw)\n",
    "    R = np.array([\n",
    "        [np.cos(yaw), -np.sin(yaw), 0],\n",
    "        [np.sin(yaw), np.cos(yaw), 0],\n",
    "        [0, 0, 1]\n",
    "    ])\n",
    "    return R"
   ]
  },
  {
   "cell_type": "code",
   "execution_count": 11,
   "metadata": {},
   "outputs": [],
   "source": [
    "p = np.array([2, 0, 1]).reshape(3,1)"
   ]
  },
  {
   "cell_type": "markdown",
   "metadata": {},
   "source": [
    "### a."
   ]
  },
  {
   "cell_type": "code",
   "execution_count": 12,
   "metadata": {},
   "outputs": [],
   "source": [
    "R_x0 = create_R_x(30)\n",
    "R_y1 = create_R_y(60)\n",
    "R_z2 = create_R_z(90)\n",
    "\n",
    "R1 = R_z2 @ R_y1 @ R_x0\n",
    "p1 = R1 @ p"
   ]
  },
  {
   "cell_type": "code",
   "execution_count": 13,
   "metadata": {},
   "outputs": [
    {
     "data": {
      "text/plain": [
       "array([[ 0.5       ],\n",
       "       [ 1.75      ],\n",
       "       [-1.29903811]])"
      ]
     },
     "execution_count": 13,
     "metadata": {},
     "output_type": "execute_result"
    }
   ],
   "source": [
    "p1"
   ]
  },
  {
   "cell_type": "markdown",
   "metadata": {},
   "source": [
    "### b."
   ]
  },
  {
   "cell_type": "code",
   "execution_count": 15,
   "metadata": {},
   "outputs": [],
   "source": [
    "R_z0 = create_R_z(90)\n",
    "R_y1 = create_R_y(60)\n",
    "R_x2 = create_R_x(30)\n",
    "\n",
    "R2 = R_x2 @ R_y1 @ R_z0\n",
    "p2 = R2 @ p"
   ]
  },
  {
   "cell_type": "code",
   "execution_count": 16,
   "metadata": {},
   "outputs": [
    {
     "data": {
      "text/plain": [
       "array([[0.8660254 ],\n",
       "       [1.48205081],\n",
       "       [1.4330127 ]])"
      ]
     },
     "execution_count": 16,
     "metadata": {},
     "output_type": "execute_result"
    }
   ],
   "source": [
    "p2"
   ]
  },
  {
   "cell_type": "markdown",
   "metadata": {},
   "source": [
    "## Problem 6"
   ]
  },
  {
   "cell_type": "code",
   "execution_count": 18,
   "metadata": {},
   "outputs": [],
   "source": [
    "R_x0 = create_R_x(30)\n",
    "R_y0 = create_R_y(60)\n",
    "R_z0 = create_R_z(90)\n",
    "\n",
    "R3 = R_z0 @ R_y0 @ R_x0\n",
    "p3 = R3 @ p"
   ]
  },
  {
   "cell_type": "code",
   "execution_count": 19,
   "metadata": {},
   "outputs": [
    {
     "data": {
      "text/plain": [
       "array([[ 0.5       ],\n",
       "       [ 1.75      ],\n",
       "       [-1.29903811]])"
      ]
     },
     "execution_count": 19,
     "metadata": {},
     "output_type": "execute_result"
    }
   ],
   "source": [
    "p3"
   ]
  }
 ],
 "metadata": {
  "kernelspec": {
   "display_name": "Python 3",
   "language": "python",
   "name": "python3"
  },
  "language_info": {
   "codemirror_mode": {
    "name": "ipython",
    "version": 3
   },
   "file_extension": ".py",
   "mimetype": "text/x-python",
   "name": "python",
   "nbconvert_exporter": "python",
   "pygments_lexer": "ipython3",
   "version": "3.12.3"
  }
 },
 "nbformat": 4,
 "nbformat_minor": 2
}
